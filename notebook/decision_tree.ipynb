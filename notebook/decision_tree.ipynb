{
 "cells": [
  {
   "cell_type": "markdown",
   "metadata": {},
   "source": [
    "# Decision Tree\n",
    "\n",
    "This example shows how to use [SciKit-Learn](https://scikit-learn.org/stable/) to train a Decision Tree model on the Titanic dataset. Data is processed to increase the accuracy of the model. For a more detailed explanation of what is Decision Tree is, see [Decision Tree](../document/decision_tree.md)."
   ]
  },
  {
   "cell_type": "markdown",
   "metadata": {},
   "source": [
    "## Imports"
   ]
  },
  {
   "cell_type": "code",
   "execution_count": null,
   "metadata": {},
   "outputs": [],
   "source": [
    "import polars as pl\n",
    "from polars import LazyFrame"
   ]
  },
  {
   "cell_type": "markdown",
   "metadata": {},
   "source": [
    "## Process Data\n",
    "Apply the same processing to the training and testing data."
   ]
  },
  {
   "cell_type": "code",
   "execution_count": null,
   "metadata": {},
   "outputs": [],
   "source": [
    "train_data: LazyFrame = pl.scan_csv(\"data/train.csv\", has_header=True)\n",
    "test_data: LazyFrame = pl.scan_csv(\"data/test.csv\", has_header=True)"
   ]
  },
  {
   "cell_type": "code",
   "execution_count": null,
   "metadata": {},
   "outputs": [],
   "source": [
    "title_map: dict[str, int] = {\n",
    "    \"Capt\": 1,\n",
    "    \"Col\": 1,\n",
    "    #\"Countess\": 2,\n",
    "    \"Don\": 2,\n",
    "    \"Dona\": 2,\n",
    "    \"Dr\": 3,\n",
    "    \"Jonkheer\": 2,\n",
    "    \"Lady\": 2,\n",
    "    \"Major\": 1,\n",
    "    \"Master\": 4,\n",
    "    \"Miss\": 5,\n",
    "    \"Miss\": 5,\n",
    "    \"Mme\": 6,\n",
    "    \"Mr\": 7,\n",
    "    \"Mrs\": 6,\n",
    "    \"Ms\": 5,\n",
    "    \"Rev\": 8,\n",
    "    \"Sir\": 2,\n",
    "}"
   ]
  },
  {
   "cell_type": "markdown",
   "metadata": {},
   "source": [
    "### Features"
   ]
  },
  {
   "cell_type": "code",
   "execution_count": null,
   "metadata": {},
   "outputs": [],
   "source": [
    "train_features: LazyFrame = train_data.select(\n",
    "    sku=pl.col(\"Pclass\").rank(method=\"dense\"),\n",
    "    family_size=pl.col(\"SibSp\") + pl.col(\"Parch\") + 1,\n",
    "    embarked=pl.col(\"Embarked\").rank(method=\"dense\"),\n",
    "    title=pl.col(\"Name\").str.extract(r\",\\s*(\\w+)\\.\\s*\").replace_strict(\n",
    "        title_map,\n",
    "        default=max(title_map.values()) + 1,\n",
    "        return_dtype=pl.UInt8),\n",
    ")"
   ]
  },
  {
   "cell_type": "code",
   "execution_count": null,
   "metadata": {},
   "outputs": [],
   "source": [
    "train_features.collect().sample(5)"
   ]
  },
  {
   "cell_type": "markdown",
   "metadata": {},
   "source": [
    "----\n",
    "Go back to [index](_index.ipynb)."
   ]
  },
  {
   "cell_type": "markdown",
   "metadata": {},
   "source": []
  }
 ],
 "metadata": {
  "kernelspec": {
   "display_name": "Titanic",
   "language": "python",
   "name": "python3"
  },
  "language_info": {
   "codemirror_mode": {
    "name": "ipython",
    "version": 3
   },
   "file_extension": ".py",
   "mimetype": "text/x-python",
   "name": "python",
   "nbconvert_exporter": "python",
   "pygments_lexer": "ipython3",
   "version": "3.10.15"
  }
 },
 "nbformat": 4,
 "nbformat_minor": 2
}
