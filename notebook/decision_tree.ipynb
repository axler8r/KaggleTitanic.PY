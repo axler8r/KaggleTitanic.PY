{
 "cells": [
  {
   "cell_type": "markdown",
   "metadata": {},
   "source": [
    "# Decision Tree\n",
    "\n",
    "This example shows how to use [SciKit-Learn](https://scikit-learn.org/stable/) to train a Decision Tree model on the Titanic dataset. Data is processed to increase the accuracy of the model. For a more detailed explanation of what is Decision Tree is, see [Decision Tree](../document/decision_tree.md)."
   ]
  },
  {
   "cell_type": "markdown",
   "metadata": {},
   "source": [
    "## Imports"
   ]
  },
  {
   "cell_type": "code",
   "execution_count": null,
   "metadata": {},
   "outputs": [],
   "source": [
    "import polars as pl\n",
    "\n",
    "from typing import Any\n",
    "\n",
    "from numpy import ndarray\n",
    "from polars import LazyFrame\n",
    "from sklearn import tree\n",
    "from sklearn.tree import DecisionTreeClassifier\n",
    "from sklearn.model_selection import train_test_split\n",
    "from sklearn.metrics import accuracy_score, precision_score, recall_score, confusion_matrix, f1_score\n",
    "from seaborn import heatmap"
   ]
  },
  {
   "cell_type": "markdown",
   "metadata": {},
   "source": [
    "## Process Data\n",
    "Apply the same processing to the training and testing data."
   ]
  },
  {
   "cell_type": "code",
   "execution_count": null,
   "metadata": {},
   "outputs": [],
   "source": [
    "train_data: LazyFrame = pl.scan_csv(\"data/train.csv\", has_header=True)\n",
    "test_data: LazyFrame = pl.scan_csv(\"data/test.csv\", has_header=True)"
   ]
  },
  {
   "cell_type": "code",
   "execution_count": null,
   "metadata": {},
   "outputs": [],
   "source": [
    "title_map: dict[str, int] = {\n",
    "    # Common Titles\n",
    "    \"Mr\": 1,\n",
    "    \"Ms\": 2,\n",
    "    \"Mrs\": 2,\n",
    "    \"Mme\": 2,\n",
    "    \"Master\": 3,\n",
    "    \"Miss\": 4,\n",
    "    \"Mlle\": 4,\n",
    "    # Distinguished Titles\n",
    "    \"Capt\": 5,\n",
    "    \"Col\": 5,\n",
    "    \"Dr\": 5,\n",
    "    \"Major\": 5,\n",
    "    \"Rev\": 5,\n",
    "    # Royal Titles\n",
    "    \"Countess\": 6,\n",
    "    \"Don\": 6,\n",
    "    \"Dona\": 6,\n",
    "    \"Jonkheer\": 6,\n",
    "    \"Lady\": 6,\n",
    "    \"Sir\": 6\n",
    "}"
   ]
  },
  {
   "cell_type": "markdown",
   "metadata": {},
   "source": [
    "### Features"
   ]
  },
  {
   "cell_type": "code",
   "execution_count": null,
   "metadata": {},
   "outputs": [],
   "source": [
    "mean_miss_age = 21.5\n",
    "mean_master_age = 4.5\n",
    "mean_mrs_age = 35.5\n",
    "mean_mr_age = 33.0\n",
    "\n",
    "train_features: LazyFrame = train_data.select(\n",
    "    sku=pl.col(\"Pclass\").rank(method=\"dense\"),\n",
    "    n_family=pl.col(\"SibSp\") + pl.col(\"Parch\") + 1,\n",
    "    origin=pl.col(\"Embarked\").fill_null(strategy=\"forward\").rank(method=\"dense\"),\n",
    "    title=pl.col(\"Name\")\n",
    "    .str.extract(r\",\\s*(\\w+)\\.\\s*\")\n",
    "    .replace_strict(title_map, default=max(title_map.values()) + 1, return_dtype=pl.UInt8),\n",
    "    has_cabin=pl.col(\"Cabin\").is_not_null().cast(pl.UInt8),\n",
    "    fare=pl.when(pl.col(\"Fare\").is_null(),)\n",
    "        .then(pl.col(\"Fare\").mean())\n",
    "        .when(pl.col(\"Fare\").le(7.91),).then(1)\n",
    "        .when(pl.col(\"Fare\").is_between(7.91, 14.454, closed='left'),).then(2)\n",
    "        .when(pl.col(\"Fare\").is_between(14.454, 31.0, closed='left'),).then(3)\n",
    "        .otherwise(4).cast(pl.UInt8),\n",
    "    age=pl.when((pl.col(\"Name\").str.contains(\"Master\")) & (pl.col(\"Age\").is_null()),)\n",
    "        .then(mean_master_age)\n",
    "        .when((pl.col(\"Name\").str.contains(\"Miss\")) & (pl.col(\"Age\").is_null()),)\n",
    "        .then(mean_miss_age)\n",
    "        .when((pl.col(\"Name\").str.contains(\"Mrs\")) & (pl.col(\"Age\").is_null()),)\n",
    "        .then(mean_mrs_age)\n",
    "        .when((pl.col(\"Name\").str.contains(\"Mr\")) & (pl.col(\"Age\").is_null()),)\n",
    "        .then(mean_mr_age)\n",
    "        .when(pl.col(\"Age\").is_null(),)\n",
    "        .then(pl.col(\"Age\").mean())\n",
    "        .otherwise(pl.col(\"Age\")),\n",
    ")\n",
    "\n",
    "test_features: LazyFrame = test_data.select(\n",
    "    sku=pl.col(\"Pclass\").rank(method=\"dense\"),\n",
    "    n_family=pl.col(\"SibSp\") + pl.col(\"Parch\") + 1,\n",
    "    origin=pl.col(\"Embarked\").fill_null(strategy=\"forward\").rank(method=\"dense\"),\n",
    "    title=pl.col(\"Name\")\n",
    "    .str.extract(r\",\\s*(\\w+)\\.\\s*\")\n",
    "    .replace_strict(title_map, default=max(title_map.values()) + 1, return_dtype=pl.UInt8),\n",
    "    has_cabin=pl.col(\"Cabin\").is_not_null().cast(pl.UInt8),\n",
    "    fare=pl.when(pl.col(\"Fare\").is_null(),)\n",
    "        .then(pl.col(\"Fare\").mean())\n",
    "        .when(pl.col(\"Fare\").le(7.91),).then(1)\n",
    "        .when(pl.col(\"Fare\").is_between(7.91, 14.454, closed='left'),).then(2)\n",
    "        .when(pl.col(\"Fare\").is_between(14.454, 31.0, closed='left'),).then(3)\n",
    "        .otherwise(4).cast(pl.UInt8),\n",
    "    age=pl.when((pl.col(\"Name\").str.contains(\"Master\")) & (pl.col(\"Age\").is_null()),)\n",
    "        .then(mean_master_age)\n",
    "        .when((pl.col(\"Name\").str.contains(\"Miss\")) & (pl.col(\"Age\").is_null()),)\n",
    "        .then(mean_miss_age)\n",
    "        .when((pl.col(\"Name\").str.contains(\"Mrs\")) & (pl.col(\"Age\").is_null()),)\n",
    "        .then(mean_mrs_age)\n",
    "        .when((pl.col(\"Name\").str.contains(\"Mr\")) & (pl.col(\"Age\").is_null()),)\n",
    "        .then(mean_mr_age)\n",
    "        .when(pl.col(\"Age\").is_null(),)\n",
    "        .then(pl.col(\"Age\").mean())\n",
    "        .otherwise(pl.col(\"Age\")),\n",
    ")\n",
    "\n",
    "train_output: LazyFrame = train_data.select(y=pl.col(\"Survived\"))"
   ]
  },
  {
   "cell_type": "markdown",
   "metadata": {},
   "source": [
    "### Train the Decision Tree"
   ]
  },
  {
   "cell_type": "code",
   "execution_count": null,
   "metadata": {},
   "outputs": [],
   "source": [
    "X: ndarray[Any, Any] = train_features.collect().to_numpy()\n",
    "y: ndarray[Any, Any] = train_output.collect().to_numpy()\n",
    "\n",
    "X_train, X_validate, y_train, y_validate = train_test_split(X, y, test_size=0.2, random_state=73)"
   ]
  },
  {
   "cell_type": "code",
   "execution_count": null,
   "metadata": {},
   "outputs": [],
   "source": [
    "# Train the decision tree classifier\n",
    "clf = DecisionTreeClassifier(max_depth=3)\n",
    "clf.fit(X_train, y_train)"
   ]
  },
  {
   "cell_type": "code",
   "execution_count": null,
   "metadata": {},
   "outputs": [],
   "source": [
    "# Export the decision tree to a dot file\n",
    "from matplotlib.text import Annotation\n",
    "\n",
    "\n",
    "dot_data: str = tree.export_graphviz(\n",
    "    clf,\n",
    "    out_file=\"resource/decision-tree.dot\",\n",
    "    feature_names=train_features.columns,\n",
    "    class_names=[\"0\", \"1\"],\n",
    "    filled=True,\n",
    "    rounded=True,\n",
    "    special_characters=True,\n",
    ")\n",
    "\n",
    "# View the decision tree\n",
    "plot_result: list[Annotation] = tree.plot_tree(clf, filled=True, rounded=True, proportion=True)"
   ]
  },
  {
   "cell_type": "code",
   "execution_count": null,
   "metadata": {},
   "outputs": [],
   "source": [
    "# Evaluate the model\n",
    "y_pred: ndarray = clf.predict(X_validate)\n",
    "accuracy: float = accuracy_score(y_validate, y_pred)\n",
    "precision: float = precision_score(y_validate, y_pred)\n",
    "recall: float = recall_score(y_validate, y_pred)\n",
    "f1: float = f1_score(y_validate, y_pred)\n",
    "print(f\"Accuracy: {accuracy}\")\n",
    "print(f\"Precision: {precision}\")\n",
    "print(f\"Recall: {recall}\")\n",
    "print(f\"F1: {f1}\")"
   ]
  },
  {
   "cell_type": "code",
   "execution_count": null,
   "metadata": {},
   "outputs": [],
   "source": [
    "confusion: ndarray = confusion_matrix(y_validate, y_pred)\n",
    "print(f\"Confusion: {confusion}\")\n",
    "heatmap(confusion, annot=True)"
   ]
  },
  {
   "cell_type": "markdown",
   "metadata": {},
   "source": [
    "----\n",
    "Go back to [index](_index.ipynb)."
   ]
  },
  {
   "cell_type": "markdown",
   "metadata": {},
   "source": []
  }
 ],
 "metadata": {
  "kernelspec": {
   "display_name": "Python 3 (ipykernel)",
   "language": "python",
   "name": "python3"
  },
  "language_info": {
   "codemirror_mode": {
    "name": "ipython",
    "version": 3
   },
   "file_extension": ".py",
   "mimetype": "text/x-python",
   "name": "python",
   "nbconvert_exporter": "python",
   "pygments_lexer": "ipython3",
   "version": "3.10.12"
  }
 },
 "nbformat": 4,
 "nbformat_minor": 2
}
