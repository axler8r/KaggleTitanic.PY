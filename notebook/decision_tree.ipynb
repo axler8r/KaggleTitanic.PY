{
 "cells": [
  {
   "cell_type": "markdown",
   "metadata": {},
   "source": [
    "# Decision Tree\n",
    "\n",
    "This example shows how to use [SciKit-Learn](https://scikit-learn.org/stable/) to train a Decision Tree model on the Titanic dataset. Data is processed to increase the accuracy of the model. For a more detailed explanation of what is Decision Tree is, see [Decision Tree](../document/decision_tree.md)."
   ]
  },
  {
   "cell_type": "markdown",
   "metadata": {},
   "source": [
    "## Imports"
   ]
  },
  {
   "cell_type": "code",
   "execution_count": null,
   "metadata": {},
   "outputs": [],
   "source": [
    "import polars as pl\n",
    "from polars import LazyFrame, Expr"
   ]
  },
  {
   "cell_type": "markdown",
   "metadata": {},
   "source": [
    "## Process Data\n",
    "Apply the same processing to the training and testing data."
   ]
  },
  {
   "cell_type": "code",
   "execution_count": null,
   "metadata": {},
   "outputs": [],
   "source": [
    "train_data: LazyFrame = pl.scan_csv(\"data/train.csv\", has_header=True)\n",
    "test_data: LazyFrame = pl.scan_csv(\"data/test.csv\", has_header=True)"
   ]
  },
  {
   "cell_type": "code",
   "execution_count": null,
   "metadata": {},
   "outputs": [],
   "source": [
    "def encode_title(title: str) -> int:\n",
    "    print(title)\n",
    "    title_map: dict[str, int] = {\n",
    "        \"Capt\": 0,\n",
    "        \"Col\": 0,\n",
    "        #\"Countess\": 1,\n",
    "        \"Don\": 1,\n",
    "        \"Dona\": 1,\n",
    "        \"Dr\": 2,\n",
    "        \"Jonkheer\": 1,\n",
    "        \"Lady\": 1,\n",
    "        \"Major\": 0,\n",
    "        \"Master\": 3,\n",
    "        \"Miss\": 4,\n",
    "        \"Miss\": 4,\n",
    "        \"Mme\": 5,\n",
    "        \"Mr\": 6,\n",
    "        \"Mrs\": 5,\n",
    "        \"Ms\": 4,\n",
    "        \"Rev\": 7,\n",
    "        \"Sir\": 1,\n",
    "    }\n",
    "    return title_map.get(title, 8)\n"
   ]
  },
  {
   "cell_type": "markdown",
   "metadata": {},
   "source": [
    "### Test Encode Title"
   ]
  },
  {
   "cell_type": "code",
   "execution_count": null,
   "metadata": {},
   "outputs": [],
   "source": [
    "encoded_titles = [encode_title(name) for name in [\"Mr\", \"Mrs\", \"Miss\", \"Master\", \"Dr\", \"Rev\", \"Col\", \"Sir\", \"Lady\", \"Countess\", \"Jonkheer\", \"Dona\", \"Mme\", \"Capt\", \"Major\", \"Don\"]]\n",
    "print(encoded_titles)"
   ]
  },
  {
   "cell_type": "code",
   "execution_count": null,
   "metadata": {},
   "outputs": [],
   "source": [
    "title: Expr = pl.col(\"Name\").str.split(\", \").list.get(1).str.split(\".\").list.get(0)\n",
    "x = title.str.extract(r\"^(\\w+\\.)\")\n",
    "x\n",
    "    \n",
    "# In Polars there are two DataFrames that contain strings with the names and titles of people. I know how to extract the titles. The titles are mostly the same across the two datafames, but not exactly the same. I want to write a function that takes the expression to extract the title and return an integer. How do I do that?"
   ]
  },
  {
   "cell_type": "code",
   "execution_count": null,
   "metadata": {},
   "outputs": [],
   "source": [
    "train_features: LazyFrame = train_data.select(\n",
    "    sku=pl.col(\"Pclass\").rank(method=\"dense\"),\n",
    "    family_size=pl.col(\"SibSp\") + pl.col(\"Parch\") + 1,\n",
    "    embarked=pl.col(\"Embarked\").rank(method=\"dense\"),\n",
    "    #title=pl.col(\"Name\").str.split(\", \").list.get(1).str.split(\".\").list.get(0)\n",
    "    title=encode_title()\n",
    ")"
   ]
  },
  {
   "cell_type": "code",
   "execution_count": null,
   "metadata": {},
   "outputs": [],
   "source": [
    "train_features.collect().sample(5)"
   ]
  },
  {
   "cell_type": "markdown",
   "metadata": {},
   "source": [
    "----\n",
    "Go back to [index](_index.ipynb)."
   ]
  },
  {
   "cell_type": "markdown",
   "metadata": {},
   "source": []
  }
 ],
 "metadata": {
  "kernelspec": {
   "display_name": "Python 3 (ipykernel)",
   "language": "python",
   "name": "python3"
  },
  "language_info": {
   "codemirror_mode": {
    "name": "ipython",
    "version": 3
   },
   "file_extension": ".py",
   "mimetype": "text/x-python",
   "name": "python",
   "nbconvert_exporter": "python",
   "pygments_lexer": "ipython3",
   "version": "3.10.12"
  }
 },
 "nbformat": 4,
 "nbformat_minor": 2
}
