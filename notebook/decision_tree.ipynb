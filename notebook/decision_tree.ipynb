{
 "cells": [
  {
   "cell_type": "markdown",
   "metadata": {},
   "source": [
    "# Decision Tree\n",
    "\n",
    "This example shows how to use [SciKit-Learn](https://scikit-learn.org/stable/) to train a Decision Tree model on the Titanic dataset. Data is processed to increase the accuracy of the model. For a more detailed explanation of what is Decision Tree is, see [Decision Tree](../document/decision_tree.md)."
   ]
  },
  {
   "cell_type": "markdown",
   "metadata": {},
   "source": [
    "## Imports"
   ]
  },
  {
   "cell_type": "code",
   "execution_count": null,
   "metadata": {},
   "outputs": [],
   "source": [
    "import polars as pl\n",
    "import seaborn as sns\n",
    "\n",
    "from typing import Any\n",
    "\n",
    "from matplotlib.axes import Axes\n",
    "from matplotlib.text import Annotation\n",
    "from numpy import ndarray\n",
    "from polars import LazyFrame, DataFrame\n",
    "from sklearn import tree\n",
    "from sklearn.tree import DecisionTreeClassifier\n",
    "from sklearn.model_selection import train_test_split\n",
    "from sklearn.metrics import accuracy_score, precision_score, recall_score, confusion_matrix, f1_score\n",
    "from seaborn import heatmap"
   ]
  },
  {
   "cell_type": "markdown",
   "metadata": {},
   "source": [
    "## Process Data\n",
    "Apply the same processing to the training and testing data.\n",
    "\n",
    "Access the data lazily."
   ]
  },
  {
   "cell_type": "code",
   "execution_count": null,
   "metadata": {},
   "outputs": [],
   "source": [
    "train_data: LazyFrame = pl.scan_csv(\"data/train.csv\", has_header=True)\n",
    "test_data: LazyFrame = pl.scan_csv(\"data/test.csv\", has_header=True)"
   ]
  },
  {
   "cell_type": "markdown",
   "metadata": {},
   "source": [
    "Define a map of titles to integers. The title data was extracted from the _Name_ column in the training and testing data."
   ]
  },
  {
   "cell_type": "code",
   "execution_count": null,
   "metadata": {},
   "outputs": [],
   "source": [
    "title_map: dict[str, int] = {\n",
    "    # Common Titles\n",
    "    \"Mr\": 1,\n",
    "    \"Ms\": 2,\n",
    "    \"Mrs\": 2,\n",
    "    \"Mme\": 2,\n",
    "    \"Master\": 3,\n",
    "    \"Miss\": 4,\n",
    "    \"Mlle\": 4,\n",
    "    # Distinguished Titles\n",
    "    \"Capt\": 5,\n",
    "    \"Col\": 5,\n",
    "    \"Dr\": 5,\n",
    "    \"Major\": 5,\n",
    "    \"Rev\": 5,\n",
    "    # Royal Titles\n",
    "    \"Countess\": 6,\n",
    "    \"Don\": 6,\n",
    "    \"Dona\": 6,\n",
    "    \"Jonkheer\": 6,\n",
    "    \"Lady\": 6,\n",
    "    \"Sir\": 6\n",
    "}"
   ]
  },
  {
   "cell_type": "markdown",
   "metadata": {},
   "source": [
    "### Features"
   ]
  },
  {
   "cell_type": "markdown",
   "metadata": {},
   "source": [
    "Calculate the mean ages for records that do not have an age. Calculate the _mean_ age for \"Master.\"s, \"Miss.\"es, \"Mr.\"s, and \"Mrs.\"es. For other titles, use the mean age of the entire dataset. Titles are embedded in the _Name_ column.\n",
    "\n",
    "> ![note]\n",
    "> The following code is pseudo-code. It may not be executable.\n",
    "\n",
    "```python\n",
    "\n",
    "The ages was calculated roughly as follows:\n",
    "\n",
    "```python\n",
    "all_data = pl.concat(\n",
    "    pl.read_csv(\"data/train.csv\"),\n",
    "    pl.read_csv(\"data/test.csv\"),\n",
    ")\n",
    "\n",
    "mean_miss_age: float = all_data.filter(pl.col(\"Name\").str.contains(\"Miss.\")).get_column(\"Age\").mean()\n",
    "mean_master_age: float = all_data.filter(pl.col(\"Name\").str.contains(\"Master.\")).get_column(\"Age\").mean()\n",
    "mean_mrs_age: float = all_data.filter(pl.col(\"Name\").str.contains(\"Mrs.\")).get_column(\"Age\").mean()\n",
    "mean_mr_age: float = all_data.filter(pl.col(\"Name\").str.contains(\"Mr.\")).get_column(\"Age\").mean()\n",
    "\n",
    "mean_ages: DataFrame = all_data.with_columns(\n",
    "    miss=pl.when(null_age_miss_filter).then(mean_miss_age).otherwise(pl.col(\"Age\")),\n",
    "    master=pl.when(null_age_master_filter).then(mean_master_age).otherwise(pl.col(\"Age\")\n",
    "    mrs=pl.when(null_age_mrs_filter).then(mean_mrs_age).otherwise(pl.col(\"Age\")),\n",
    "    mr=pl.when(null_age_mr_filter).then(mean_mr_age).otherwise(pl.col(\"Age\")),\n",
    "    mean=pl.col(\"Age\").mean(),\n",
    ")\n",
    "```"
   ]
  },
  {
   "cell_type": "code",
   "execution_count": null,
   "metadata": {},
   "outputs": [],
   "source": [
    "mean_miss_age = 21.5\n",
    "mean_master_age = 4.5\n",
    "mean_mrs_age = 35.5\n",
    "mean_mr_age = 33.0"
   ]
  },
  {
   "cell_type": "markdown",
   "metadata": {},
   "source": [
    "Prepare the features for training and inference:\n",
    "+ Create a feature called `sku` from the 'Pclass' column\n",
    "+ Create a feature called `n_family` by adding the 'SibSp' and 'Parch' columns\n",
    "+ Create a feature called `title` by extracting the title from the 'Name' column and mapping it to an integer\n",
    "+ Create a feature called `has_cabin` by checking if the 'Cabin' column is not null\n",
    "+ Create a feature called `fare` by binning the 'Fare' column into 3 categories\n",
    "+ Create a feature called `age` by using the calculated mean ages for the 'Age' column"
   ]
  },
  {
   "cell_type": "code",
   "execution_count": null,
   "metadata": {},
   "outputs": [],
   "source": [
    "train_features: LazyFrame = train_data.select(\n",
    "    sku=pl.col(\"Pclass\").rank(method=\"dense\"),\n",
    "    n_family=pl.col(\"SibSp\") + pl.col(\"Parch\"),\n",
    "    origin=pl.col(\"Embarked\").fill_null(strategy=\"forward\").rank(method=\"dense\"),\n",
    "    title=pl.col(\"Name\")\n",
    "        .str.extract(r\",\\s*(\\w+)\\.\\s*\")\n",
    "        .replace_strict(title_map, default=max(title_map.values()) + 1, return_dtype=pl.UInt8),\n",
    "    has_cabin=pl.col(\"Cabin\").is_not_null().cast(pl.UInt8),\n",
    "    fare=pl.when(pl.col(\"Fare\").is_null(),)\n",
    "        .then(pl.col(\"Fare\").mean())\n",
    "        .when(pl.col(\"Fare\").le(7.91),).then(1)\n",
    "        .when(pl.col(\"Fare\").is_between(7.91, 14.454, closed='left'),).then(2)\n",
    "        .when(pl.col(\"Fare\").is_between(14.454, 31.0, closed='left'),).then(3)\n",
    "        .otherwise(4).cast(pl.UInt8),\n",
    "    age=pl.when((pl.col(\"Name\").str.contains(\"Master\")) & (pl.col(\"Age\").is_null()),)\n",
    "        .then(mean_master_age)\n",
    "        .when((pl.col(\"Name\").str.contains(\"Miss\")) & (pl.col(\"Age\").is_null()),)\n",
    "        .then(mean_miss_age)\n",
    "        .when((pl.col(\"Name\").str.contains(\"Mrs\")) & (pl.col(\"Age\").is_null()),)\n",
    "        .then(mean_mrs_age)\n",
    "        .when((pl.col(\"Name\").str.contains(\"Mr\")) & (pl.col(\"Age\").is_null()),)\n",
    "        .then(mean_mr_age)\n",
    "        .when(pl.col(\"Age\").is_null(),)\n",
    "        .then(pl.col(\"Age\").mean())\n",
    "        .otherwise(pl.col(\"Age\")),\n",
    "    # is father with family\n",
    "    is_father=pl.when(pl.col(\"Name\").str.contains(\"Mr\") & (pl.col(\"Parch\") + pl.col(\"SibSp\") > 2),)\n",
    "        .then(1)\n",
    "        .otherwise(0).cast(pl.UInt8),\n",
    "    # Child under 12 in family\n",
    "    is_lt12fam=pl.when(pl.col(\"Age\").lt(12) & pl.col(\"Parch\") + pl.col(\"SibSp\") > 1,)\n",
    "        .then(1)\n",
    "        .otherwise(0).cast(pl.UInt8),\n",
    ")\n",
    "\n",
    "test_features: LazyFrame = test_data.select(\n",
    "    sku=pl.col(\"Pclass\").rank(method=\"dense\"),\n",
    "    n_family=pl.col(\"SibSp\") + pl.col(\"Parch\"),\n",
    "    origin=pl.col(\"Embarked\").fill_null(strategy=\"forward\").rank(method=\"dense\"),\n",
    "    title=pl.col(\"Name\")\n",
    "        .str.extract(r\",\\s*(\\w+)\\.\\s*\")\n",
    "        .replace_strict(title_map, default=max(title_map.values()) + 1, return_dtype=pl.UInt8),\n",
    "    has_cabin=pl.col(\"Cabin\").is_not_null().cast(pl.UInt8),\n",
    "    fare=pl.when(pl.col(\"Fare\").is_null(),)\n",
    "        .then(pl.col(\"Fare\").mean())\n",
    "        .when(pl.col(\"Fare\").le(7.91),).then(1)\n",
    "        .when(pl.col(\"Fare\").is_between(7.91, 14.454, closed='left'),).then(2)\n",
    "        .when(pl.col(\"Fare\").is_between(14.454, 31.0, closed='left'),).then(3)\n",
    "        .otherwise(4).cast(pl.UInt8),\n",
    "    age=pl.when((pl.col(\"Name\").str.contains(\"Master\")) & (pl.col(\"Age\").is_null()),)\n",
    "        .then(mean_master_age)\n",
    "        .when((pl.col(\"Name\").str.contains(\"Miss\")) & (pl.col(\"Age\").is_null()),)\n",
    "        .then(mean_miss_age)\n",
    "        .when((pl.col(\"Name\").str.contains(\"Mrs\")) & (pl.col(\"Age\").is_null()),)\n",
    "        .then(mean_mrs_age)\n",
    "        .when((pl.col(\"Name\").str.contains(\"Mr\")) & (pl.col(\"Age\").is_null()),)\n",
    "        .then(mean_mr_age)\n",
    "        .when(pl.col(\"Age\").is_null(),)\n",
    "        .then(pl.col(\"Age\").mean())\n",
    "        .otherwise(pl.col(\"Age\")),\n",
    "    # is father with family\n",
    "    is_father=pl.when(pl.col(\"Name\").str.contains(\"Mr\") & (pl.col(\"Parch\") + pl.col(\"SibSp\") > 2),)\n",
    "        .then(1)\n",
    "        .otherwise(0).cast(pl.UInt8),\n",
    "    # Child under 12 in family\n",
    "    is_lt12fam=pl.when(pl.col(\"Age\").lt(12) & pl.col(\"Parch\") + pl.col(\"SibSp\") > 1,)\n",
    "        .then(1)\n",
    "        .otherwise(0).cast(pl.UInt8),\n",
    ")\n",
    "\n",
    "train_output: LazyFrame = train_data.select(y=pl.col(\"Survived\"))"
   ]
  },
  {
   "cell_type": "markdown",
   "metadata": {},
   "source": [
    "### View Some of the Processed Data"
   ]
  },
  {
   "cell_type": "code",
   "execution_count": null,
   "metadata": {},
   "outputs": [],
   "source": [
    "sample_train_features: DataFrame = train_features.collect().head(15)\n",
    "sample_train_features"
   ]
  },
  {
   "cell_type": "code",
   "execution_count": null,
   "metadata": {},
   "outputs": [],
   "source": [
    "sample_test_features: DataFrame = test_features.collect().head(15)\n",
    "sample_test_features"
   ]
  },
  {
   "cell_type": "markdown",
   "metadata": {},
   "source": [
    "### Train the Decision Tree"
   ]
  },
  {
   "cell_type": "code",
   "execution_count": null,
   "metadata": {},
   "outputs": [],
   "source": [
    "X: ndarray[Any, Any] = train_features.collect().to_numpy()\n",
    "y: ndarray[Any, Any] = train_output.collect().to_numpy()\n",
    "\n",
    "X_train, X_validate, y_train, y_validate = train_test_split(X, y, test_size=0.2, random_state=73)"
   ]
  },
  {
   "cell_type": "code",
   "execution_count": null,
   "metadata": {},
   "outputs": [],
   "source": [
    "# Train the decision tree classifier\n",
    "clf = DecisionTreeClassifier(max_depth=3)\n",
    "clf: DecisionTreeClassifier = clf.fit(X_train, y_train)"
   ]
  },
  {
   "cell_type": "markdown",
   "metadata": {},
   "source": [
    "### Plot the Decision Tree"
   ]
  },
  {
   "cell_type": "code",
   "execution_count": null,
   "metadata": {},
   "outputs": [],
   "source": [
    "sns.set_theme(font_scale=2, rc={\"figure.figsize\": (40, 20)})\n",
    "tree_plot: list[Annotation] = tree.plot_tree(\n",
    "    clf,\n",
    "    feature_names=train_features.collect_schema().names(),\n",
    "    class_names=True,\n",
    "    filled=True,\n",
    "    rounded=True,\n",
    "    proportion=True\n",
    ")"
   ]
  },
  {
   "cell_type": "markdown",
   "metadata": {},
   "source": [
    "### Export the Decision Tree"
   ]
  },
  {
   "cell_type": "code",
   "execution_count": null,
   "metadata": {},
   "outputs": [],
   "source": [
    "# Export the decision tree to a dot file\n",
    "# dot_data = tree.export_graphviz(\n",
    "#     clf,\n",
    "#     out_file=\"resource/decision-tree.dot\",\n",
    "#     feature_names=train_features.columns,\n",
    "#     class_names=[\"0\", \"1\"],\n",
    "#     filled=True,\n",
    "#     rounded=True,\n",
    "#     special_characters=True,\n",
    "# )\n"
   ]
  },
  {
   "cell_type": "markdown",
   "metadata": {},
   "source": [
    "### Evalue the Model"
   ]
  },
  {
   "cell_type": "code",
   "execution_count": null,
   "metadata": {},
   "outputs": [],
   "source": [
    "# Evaluate the model\n",
    "y_pred: ndarray = clf.predict(X_validate)\n",
    "accuracy: float = accuracy_score(y_validate, y_pred)\n",
    "precision: float = precision_score(y_validate, y_pred)\n",
    "recall: float = recall_score(y_validate, y_pred)\n",
    "f1: float = f1_score(y_validate, y_pred)\n",
    "\n",
    "print(f\"Accuracy: {100 * accuracy:.2f}%\")\n",
    "print(f\"Precision: {100 * precision:.2f}%\")\n",
    "print(f\"Recall: {100 * recall:.2f}%\")\n",
    "print(f\"F1: {100 * f1:.2f}%\")"
   ]
  },
  {
   "cell_type": "markdown",
   "metadata": {},
   "source": [
    "### Plot the Confusion Matrix"
   ]
  },
  {
   "cell_type": "code",
   "execution_count": null,
   "metadata": {},
   "outputs": [],
   "source": [
    "sns.axes_style(rc={\"xtick.top\": True, \"axes.spines.top\": True})\n",
    "\n",
    "confusion: ndarray = confusion_matrix(y_validate, y_pred)\n",
    "\n",
    "plot: Axes=heatmap(confusion, annot=True, fmt=\"d\", xticklabels=[\"Foundered\", \"Survived\"], yticklabels=[\"Foundered\", \"Survived\"])"
   ]
  },
  {
   "cell_type": "markdown",
   "metadata": {},
   "source": [
    "### Generate Prediction List"
   ]
  },
  {
   "cell_type": "code",
   "execution_count": null,
   "metadata": {},
   "outputs": [],
   "source": [
    "predictions: ndarray = clf.predict(test_features.collect().to_numpy())\n",
    "\n",
    "predition_list: DataFrame = test_data.select(\n",
    "    PassengerId=pl.col(\"PassengerId\"),\n",
    "    Survived=pl.Series(predictions)\n",
    ").collect()\n",
    "\n",
    "predition_list.write_csv(\"data/decision_tree_predictions.csv\")"
   ]
  },
  {
   "cell_type": "markdown",
   "metadata": {},
   "source": [
    "### Compare the Predictions with the Ground Truth"
   ]
  },
  {
   "cell_type": "code",
   "execution_count": null,
   "metadata": {
    "vscode": {
     "languageId": "ruby"
    }
   },
   "outputs": [],
   "source": [
    "source = pl.read_csv('data/decision_tree_predictions.csv')\n",
    "target = pl.read_csv('data/gender_submission.csv')\n",
    "\n",
    "y_source = source['Survived']\n",
    "y_target = target['Survived']\n",
    "\n",
    "num_differences = (y_source != y_target).sum()\n",
    "num_difference_percentage = (num_differences / len(y_source)) * 100\n",
    "num_difference_percentage\n",
    "\n"
   ]
  },
  {
   "cell_type": "markdown",
   "metadata": {},
   "source": [
    "----\n",
    "Go back to [index](_index.ipynb)."
   ]
  },
  {
   "cell_type": "markdown",
   "metadata": {},
   "source": []
  }
 ],
 "metadata": {
  "kernelspec": {
   "display_name": "Python 3 (ipykernel)",
   "language": "python",
   "name": "python3"
  },
  "language_info": {
   "codemirror_mode": {
    "name": "ipython",
    "version": 3
   },
   "file_extension": ".py",
   "mimetype": "text/x-python",
   "name": "python",
   "nbconvert_exporter": "python",
   "pygments_lexer": "ipython3",
   "version": "3.10.12"
  }
 },
 "nbformat": 4,
 "nbformat_minor": 2
}
