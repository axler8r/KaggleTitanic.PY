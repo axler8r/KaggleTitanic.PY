{
 "cells": [
  {
   "cell_type": "markdown",
   "metadata": {},
   "source": [
    "# Visualize Data\n",
    "\n",
    "This notebook uses [Polars](https://polars.rs) to visualize the Kaggle [Titanic](https://www.kaggle.com/c/titanic/data) dataset. It also performas some basic data manipulation and analysis. Data is visualized using [SeaBorn](https://seaborn.pydata.org/)."
   ]
  },
  {
   "cell_type": "markdown",
   "metadata": {},
   "source": [
    "## Imports"
   ]
  },
  {
   "cell_type": "code",
   "execution_count": null,
   "metadata": {},
   "outputs": [],
   "source": [
    "import seaborn as sns\n",
    "import polars as pl\n",
    "from polars import DataFrame, Series\n",
    "from polars.expr.expr import Expr"
   ]
  },
  {
   "cell_type": "markdown",
   "metadata": {},
   "source": [
    "## Exploratory Data Analysis"
   ]
  },
  {
   "cell_type": "code",
   "execution_count": null,
   "metadata": {},
   "outputs": [],
   "source": [
    "train_data: DataFrame = pl.read_csv(\"data/train.csv\")"
   ]
  },
  {
   "cell_type": "code",
   "execution_count": null,
   "metadata": {},
   "outputs": [],
   "source": [
    "train_data.sample(10)"
   ]
  },
  {
   "cell_type": "code",
   "execution_count": null,
   "metadata": {},
   "outputs": [],
   "source": [
    "train_data.describe()"
   ]
  },
  {
   "cell_type": "markdown",
   "metadata": {},
   "source": [
    "## Remove Null `Age` Values"
   ]
  },
  {
   "cell_type": "markdown",
   "metadata": {},
   "source": [
    "### Create Filters"
   ]
  },
  {
   "cell_type": "code",
   "execution_count": null,
   "metadata": {},
   "outputs": [],
   "source": [
    "mean_miss_age: float = train_data.filter(pl.col(\"Name\").str.contains(\"Miss.\")).get_column(\"Age\").mean()\n",
    "mean_master_age: float = train_data.filter(pl.col(\"Name\").str.contains(\"Master.\")).get_column(\"Age\").mean()\n",
    "mean_mrs_age: float = train_data.filter(pl.col(\"Name\").str.contains(\"Mrs.\")).get_column(\"Age\").mean()\n",
    "mean_mr_age: float = train_data.filter(pl.col(\"Name\").str.contains(\"Mr.\")).get_column(\"Age\").mean()\n",
    "\n",
    "print(f\"{mean_miss_age=}\")\n",
    "print(f\"{mean_master_age=}\")\n",
    "print(f\"{mean_mrs_age=}\")\n",
    "print(f\"{mean_mr_age=}\")"
   ]
  },
  {
   "cell_type": "markdown",
   "metadata": {},
   "source": [
    "### Apply Filters"
   ]
  },
  {
   "cell_type": "code",
   "execution_count": null,
   "metadata": {},
   "outputs": [],
   "source": [
    "null_age_miss_filter: Expr = pl.col(\"Name\").str.contains(\"Miss.\") & pl.col(\"Age\").is_null()\n",
    "null_age_master_filter: Expr = pl.col(\"Name\").str.contains(\"Master.\") & pl.col(\"Age\").is_null()\n",
    "null_age_mrs_filter: Expr = pl.col(\"Name\").str.contains(\"Mrs.\") & pl.col(\"Age\").is_null()\n",
    "null_age_mr_filter: Expr = pl.col(\"Name\").str.contains(\"Mr.\") & pl.col(\"Age\").is_null()"
   ]
  },
  {
   "cell_type": "markdown",
   "metadata": {},
   "source": [
    "### Update Null `Age` Values"
   ]
  },
  {
   "cell_type": "code",
   "execution_count": null,
   "metadata": {},
   "outputs": [],
   "source": [
    "updated_null_age_miss_train_data: DataFrame = train_data.with_columns(\n",
    "    pl.when(null_age_miss_filter).then(mean_miss_age).otherwise(pl.col(\"Age\")).alias(\"Age\")\n",
    ")\n",
    "updated_null_age_master_train_data: DataFrame = updated_null_age_miss_train_data.with_columns(\n",
    "    pl.when(null_age_master_filter).then(mean_master_age).otherwise(pl.col(\"Age\")).alias(\"Age\")\n",
    ")\n",
    "updated_null_age_mrs_train_data: DataFrame = updated_null_age_master_train_data.with_columns(\n",
    "    pl.when(null_age_mrs_filter).then(mean_mrs_age).otherwise(pl.col(\"Age\")).alias(\"Age\")\n",
    ")\n",
    "updated_null_age_mr_train_data: DataFrame = updated_null_age_mrs_train_data.with_columns(\n",
    "    pl.when(null_age_mr_filter).then(mean_mr_age).otherwise(pl.col(\"Age\")).alias(\"Age\")\n",
    ")\n",
    "updated_null_age_dr_train_data: DataFrame = updated_null_age_mr_train_data.with_columns(\n",
    "    pl.when(null_age_mr_filter).then(40.0).otherwise(pl.col(\"Age\")).alias(\"Age\")\n",
    ")\n",
    "\n",
    "updated_null_age_dr_train_data.describe()"
   ]
  },
  {
   "cell_type": "markdown",
   "metadata": {},
   "source": [
    "### Create Training `DataFrame`"
   ]
  },
  {
   "cell_type": "code",
   "execution_count": null,
   "metadata": {},
   "outputs": [],
   "source": [
    "passenger_class: Series = train_data[\"Pclass\"].rank(\"dense\").cast(pl.Int64) - 1\n",
    "passenger_age: Series = train_data[\"Age\"].fill_null(strategy=\"mean\").round(1)\n",
    "passenger_adult: Series = (passenger_age > 16).rank(\"dense\").cast(pl.Int64) - 1\n",
    "passenger_gender: Series = train_data[\"Sex\"].rank(\"dense\").cast(pl.Int64) - 1\n",
    "passenger_family: Series = train_data[\"SibSp\"] + train_data[\"Parch\"]\n",
    "# passenger_fare: Series = train_data['Fare'].fill_null(strategy='mean')\n",
    "passenger_port: Series = train_data[\"Embarked\"].fill_null(strategy=\"forward\")\n",
    "passenger_embarked: Series = passenger_port.rank(\"dense\").cast(pl.Int64) - 1\n",
    "passenger_is_child: Series = (passenger_age < 16).rank(\"dense\").cast(pl.Int64) - 1\n",
    "passenger_is_alone: Series = (passenger_family == 0).rank(\"dense\").cast(pl.Int64) - 1\n",
    "passenger_survided: Series = train_data[\"Survived\"]\n",
    "\n",
    "processed_data: DataFrame = DataFrame(\n",
    "    {\n",
    "        \"class\": passenger_class,\n",
    "        \"age\": passenger_age,\n",
    "        \"adult\": passenger_adult,\n",
    "        \"gender\": passenger_gender,\n",
    "        \"family\": passenger_family,\n",
    "        # 'fare': passenger_fare,\n",
    "        \"embarked\": passenger_embarked,\n",
    "        \"is_child\": passenger_is_child,\n",
    "        \"is_alone\": passenger_is_alone,\n",
    "        \"survived\": passenger_survided,\n",
    "    }\n",
    ")\n",
    "\n",
    "processed_data.describe()"
   ]
  },
  {
   "cell_type": "code",
   "execution_count": null,
   "metadata": {},
   "outputs": [],
   "source": [
    "processed_data.sample(10)"
   ]
  },
  {
   "cell_type": "markdown",
   "metadata": {},
   "source": [
    "### Save Processed Data"
   ]
  },
  {
   "cell_type": "code",
   "execution_count": null,
   "metadata": {},
   "outputs": [],
   "source": [
    "processed_data.write_csv(\"data/processed_train.csv\")\n",
    "processed_data.write_parquet(\"data/processed_train.parquet\")"
   ]
  },
  {
   "cell_type": "markdown",
   "metadata": {},
   "source": [
    "## Naive Visualisation of the Training Data"
   ]
  },
  {
   "cell_type": "code",
   "execution_count": null,
   "metadata": {},
   "outputs": [],
   "source": [
    "sns.countplot(data=processed_data, x=\"gender\", hue=\"survived\", palette=\"BuPu_d\")"
   ]
  },
  {
   "cell_type": "code",
   "execution_count": null,
   "metadata": {},
   "outputs": [],
   "source": [
    "sns.countplot(data=processed_data, x=\"is_child\", hue=\"survived\", palette=\"BuPu_d\")"
   ]
  },
  {
   "cell_type": "code",
   "execution_count": null,
   "metadata": {},
   "outputs": [],
   "source": [
    "sns.countplot(data=processed_data, x=\"class\", hue=\"survived\", palette=\"BuPu_d\")"
   ]
  },
  {
   "cell_type": "code",
   "execution_count": null,
   "metadata": {},
   "outputs": [],
   "source": [
    "sns.kdeplot(data=processed_data, x=\"age\", palette=\"BuPu_d\", hue=\"survived\")"
   ]
  },
  {
   "cell_type": "code",
   "execution_count": null,
   "metadata": {},
   "outputs": [],
   "source": [
    "sns.kdeplot(data=processed_data, x=\"age\", hue=\"survived\", fill=True, palette=\"BuPu_d\")"
   ]
  },
  {
   "cell_type": "code",
   "execution_count": null,
   "metadata": {},
   "outputs": [],
   "source": [
    "fg = sns.FacetGrid(data=processed_data, hue=\"gender\", aspect=3, palette=\"BuPu_d\")\n",
    "fg.map(sns.kdeplot, \"age\", fill=True)\n",
    "fg.add_legend()\n",
    "fg.set(xlim=(0, processed_data[\"age\"].max()))"
   ]
  },
  {
   "cell_type": "code",
   "execution_count": null,
   "metadata": {},
   "outputs": [],
   "source": [
    "fg = sns.FacetGrid(data=processed_data, hue=\"class\", aspect=3, palette=\"BuPu_d\")\n",
    "fg.map(sns.kdeplot, \"age\", fill=True)\n",
    "fg.add_legend()\n",
    "fg.set(xlim=(0, processed_data[\"age\"].max()))"
   ]
  },
  {
   "cell_type": "code",
   "execution_count": null,
   "metadata": {},
   "outputs": [],
   "source": [
    "sns.countplot(data=processed_data, x=\"family\", hue=\"survived\", palette=\"BuPu_d\")"
   ]
  },
  {
   "cell_type": "code",
   "execution_count": null,
   "metadata": {},
   "outputs": [],
   "source": [
    "sns.countplot(data=processed_data, x=\"is_alone\", hue=\"survived\", palette=\"BuPu_d\")"
   ]
  },
  {
   "cell_type": "code",
   "execution_count": null,
   "metadata": {},
   "outputs": [],
   "source": [
    "sns.heatmap(data=processed_data.corr(), annot=True, cmap=\"BuPu\")"
   ]
  },
  {
   "cell_type": "markdown",
   "metadata": {},
   "source": [
    "## Next Steps\n",
    "\n",
    "+ Implement a [Naive Decision Tree](naive-decision-tree.ipynb) classifier.\n",
    "+ Implement a [Decision Tree](decision-tree.ipynb) classifier.\n",
    "+ Implement a [Random Forest](random-forest.ipynb) classifier.\n",
    "+ Implement a [Gradient Boosting](gradient-boosting.ipynb) classifier.\n",
    "+ Implement a [Neural Network](neural-network.ipynb) classifier."
   ]
  },
  {
   "cell_type": "markdown",
   "metadata": {},
   "source": [
    "----\n",
    "Go back to [index](_index.ipynb)."
   ]
  },
  {
   "cell_type": "markdown",
   "metadata": {},
   "source": []
  }
 ],
 "metadata": {
  "kernelspec": {
   "display_name": "Python 3 (ipykernel)",
   "language": "python",
   "name": "python3"
  },
  "language_info": {
   "codemirror_mode": {
    "name": "ipython",
    "version": 3
   },
   "file_extension": ".py",
   "mimetype": "text/x-python",
   "name": "python",
   "nbconvert_exporter": "python",
   "pygments_lexer": "ipython3",
   "version": "3.10.12"
  }
 },
 "nbformat": 4,
 "nbformat_minor": 2
}
