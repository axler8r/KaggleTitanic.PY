{
 "cells": [
  {
   "cell_type": "markdown",
   "metadata": {},
   "source": [
    "# Index\n",
    "\n",
    "+ [Retrieve Data](retrieve_data.ipynb)\n",
    "+ Polars\n",
    "    + [Data Preprocessing](data_preprocessing.ipynb)\n",
    "+ Seaborn\n",
    "    + [Visualise Data](visualise_data.ipynb)\n",
    "+ Scikit-learn\n",
    "    + [Naive Decision Tree](naive_decision_tree.ipynb)\n",
    "    + [Decision Tree](decision_tree.ipynb)\n",
    "    + [Random Forest](random_forest.ipynb)\n",
    "    + [Gradient Boost](gradient_boost.ipynb)\n",
    "+ [XGBoost](xgboost.ipynb)\n",
    "+ PyTorch\n",
    "    + [Neural Network](neural_network.ipynb)\n"
   ]
  },
  {
   "cell_type": "markdown",
   "metadata": {},
   "source": [
    "----\n",
    "Back to [main page](../README.md)."
   ]
  },
  {
   "cell_type": "markdown",
   "metadata": {},
   "source": []
  }
 ],
 "metadata": {
  "language_info": {
   "name": "python"
  }
 },
 "nbformat": 4,
 "nbformat_minor": 2
}
