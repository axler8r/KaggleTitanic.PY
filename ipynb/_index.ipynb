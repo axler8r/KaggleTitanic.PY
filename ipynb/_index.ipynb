{
 "cells": [
  {
   "cell_type": "markdown",
   "metadata": {},
   "source": [
    "# Index\n",
    "\n",
    "+ [Retrieve Project Data](retrieve_data.ipynb)\n",
    "+ [Visualise Project Data](visualise_data.ipynb)\n",
    "+ [Naive Decision Tree](naive_decision_tree.ipynb)\n",
    "+ [Data Preprocessing](data_preprocessing.ipynb)\n",
    "+ [Decision Tree](decision_tree.ipynb)\n",
    "+ [Random Forest](random_forest.ipynb)\n",
    "+ [Gradient Boosting](gradient_boosting.ipynb)\n",
    "+ [XGBoost](xgboost.ipynb)\n",
    "+ [Neural Network](neural_network.ipynb)\n"
   ]
  },
  {
   "cell_type": "markdown",
   "metadata": {},
   "source": [
    "----\n",
    "Back to [main page](../README.md)."
   ]
  },
  {
   "cell_type": "markdown",
   "metadata": {},
   "source": []
  }
 ],
 "metadata": {
  "language_info": {
   "name": "python"
  }
 },
 "nbformat": 4,
 "nbformat_minor": 2
}
