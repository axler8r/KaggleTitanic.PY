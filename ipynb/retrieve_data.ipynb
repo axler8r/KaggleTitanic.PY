{
 "cells": [
  {
   "cell_type": "markdown",
   "metadata": {},
   "source": [
    "# Retrieve Data\n",
    "\n",
    "Retrieve data (and extract) from the [Titanic dataset](https://www.kaggle.com/c/titanic/data) on Kaggle."
   ]
  },
  {
   "cell_type": "markdown",
   "metadata": {},
   "source": [
    "## Imports"
   ]
  },
  {
   "cell_type": "code",
   "execution_count": null,
   "metadata": {},
   "outputs": [],
   "source": [
    "import os\n",
    "import zipfile\n",
    "import kaggle"
   ]
  },
  {
   "cell_type": "markdown",
   "metadata": {},
   "source": [
    "## Retrieve Data\n",
    "Download the data file if it is not already downloaded."
   ]
  },
  {
   "cell_type": "code",
   "execution_count": null,
   "metadata": {},
   "outputs": [],
   "source": [
    "kaggle.api.authenticate()\n",
    "\n",
    "if not os.path.exists(\"data\"):\n",
    "    os.makedirs(\"data\")\n",
    "\n",
    "if not os.path.exists(\"data/titanic.zip\"):\n",
    "    kaggle.api.competition_download_files(competition=\"titanic\", path=\"data\", force=True)\n",
    "else:\n",
    "    print(\"Data already downloaded\")"
   ]
  },
  {
   "cell_type": "markdown",
   "metadata": {},
   "source": [
    "## Extract Data"
   ]
  },
  {
   "cell_type": "code",
   "execution_count": null,
   "metadata": {},
   "outputs": [],
   "source": [
    "if os.path.exists(\"data/titanic.zip\"):\n",
    "    with zipfile.ZipFile(\"data/titanic.zip\", \"r\") as zip_ref:\n",
    "        zip_ref.extractall(\"data\")\n",
    "    print(\"Data extracted\")\n",
    "else:\n",
    "    print(\"Retreive data\")"
   ]
  },
  {
   "cell_type": "markdown",
   "metadata": {},
   "source": [
    "## Next Steps\n",
    "+ [Visualise](visualise_data.ipynb) the data\n",
    "+ Implement a [naive decision tree classifier](naive_decision_tree.ipynb)\n",
    "+ Implement a [decision tree classifier](decision_tree.ipynb)\n"
   ]
  },
  {
   "cell_type": "markdown",
   "metadata": {},
   "source": [
    "----\n",
    "Go back to the [index](_index.ipynb)."
   ]
  },
  {
   "cell_type": "code",
   "execution_count": null,
   "metadata": {},
   "outputs": [],
   "source": []
  }
 ],
 "metadata": {
  "kernelspec": {
   "display_name": "Python 3 (ipykernel)",
   "language": "python",
   "name": "python3"
  },
  "language_info": {
   "codemirror_mode": {
    "name": "ipython",
    "version": 3
   },
   "file_extension": ".py",
   "mimetype": "text/x-python",
   "name": "python",
   "nbconvert_exporter": "python",
   "pygments_lexer": "ipython3",
   "version": "3.10.12"
  }
 },
 "nbformat": 4,
 "nbformat_minor": 2
}
