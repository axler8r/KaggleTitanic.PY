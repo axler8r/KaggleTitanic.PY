{
 "cells": [
  {
   "cell_type": "markdown",
   "metadata": {},
   "source": [
    "# Data Preprocessing"
   ]
  },
  {
   "cell_type": "markdown",
   "metadata": {},
   "source": [
    "## Imports"
   ]
  },
  {
   "cell_type": "code",
   "execution_count": null,
   "metadata": {},
   "outputs": [],
   "source": [
    "import polars as pl\n",
    "\n",
    "from polars import LazyFrame, DataFrame"
   ]
  },
  {
   "cell_type": "markdown",
   "metadata": {},
   "source": [
    "## Process Data\n",
    "Apply the same processing to the training and testing data.\n",
    "\n",
    "Access the data lazily."
   ]
  },
  {
   "cell_type": "code",
   "execution_count": null,
   "metadata": {},
   "outputs": [],
   "source": [
    "train_data: LazyFrame = pl.scan_csv(\"../data/train.csv\", has_header=True)\n",
    "test_data: LazyFrame = pl.scan_csv(\"../data/test.csv\", has_header=True)"
   ]
  },
  {
   "cell_type": "markdown",
   "metadata": {},
   "source": [
    "Define a map of titles to integers. The title data was extracted from the _Name_ column in the training and testing data."
   ]
  },
  {
   "cell_type": "code",
   "execution_count": null,
   "metadata": {},
   "outputs": [],
   "source": [
    "title_map: dict[str, int] = {\n",
    "    # Common Titles\n",
    "    \"Mr\": 1,\n",
    "    \"Ms\": 2,\n",
    "    \"Mrs\": 2,\n",
    "    \"Mme\": 2,\n",
    "    \"Master\": 3,\n",
    "    \"Miss\": 4,\n",
    "    \"Mlle\": 4,\n",
    "    # Distinguished Titles\n",
    "    \"Capt\": 5,\n",
    "    \"Col\": 5,\n",
    "    \"Dr\": 5,\n",
    "    \"Major\": 5,\n",
    "    \"Rev\": 5,\n",
    "    # Royal Titles\n",
    "    \"Countess\": 6,\n",
    "    \"Don\": 6,\n",
    "    \"Dona\": 6,\n",
    "    \"Jonkheer\": 6,\n",
    "    \"Lady\": 6,\n",
    "    \"Sir\": 6,\n",
    "}"
   ]
  },
  {
   "cell_type": "markdown",
   "metadata": {},
   "source": [
    "### Features"
   ]
  },
  {
   "cell_type": "markdown",
   "metadata": {},
   "source": [
    "Calculate the mean ages for records that do not have an age. Calculate the _mean_ age for \"Master.\"s, \"Miss.\"es, \"Mr.\"s, and \"Mrs.\"es. For other titles, use the mean age of the entire dataset. Titles are embedded in the _Name_ column.\n",
    "\n",
    "> ![note]\n",
    "> The following code is pseudo-code. It may not be executable.\n",
    "\n",
    "```python\n",
    "\n",
    "The ages was calculated roughly as follows:\n",
    "\n",
    "```python\n",
    "all_data = pl.concat(\n",
    "    pl.read_csv(\"data/train.csv\"),\n",
    "    pl.read_csv(\"data/test.csv\"),\n",
    ")\n",
    "\n",
    "mean_miss_age: float = all_data.filter(pl.col(\"Name\").str.contains(\"Miss.\")).get_column(\"Age\").mean()\n",
    "mean_master_age: float = all_data.filter(pl.col(\"Name\").str.contains(\"Master.\")).get_column(\"Age\").mean()\n",
    "mean_mrs_age: float = all_data.filter(pl.col(\"Name\").str.contains(\"Mrs.\")).get_column(\"Age\").mean()\n",
    "mean_mr_age: float = all_data.filter(pl.col(\"Name\").str.contains(\"Mr.\")).get_column(\"Age\").mean()\n",
    "\n",
    "mean_ages: DataFrame = all_data.with_columns(\n",
    "    miss=pl.when(null_age_miss_filter).then(mean_miss_age).otherwise(pl.col(\"Age\")),\n",
    "    master=pl.when(null_age_master_filter).then(mean_master_age).otherwise(pl.col(\"Age\")\n",
    "    mrs=pl.when(null_age_mrs_filter).then(mean_mrs_age).otherwise(pl.col(\"Age\")),\n",
    "    mr=pl.when(null_age_mr_filter).then(mean_mr_age).otherwise(pl.col(\"Age\")),\n",
    "    mean=pl.col(\"Age\").mean(),\n",
    ")\n",
    "```"
   ]
  },
  {
   "cell_type": "code",
   "execution_count": null,
   "metadata": {},
   "outputs": [],
   "source": [
    "mean_miss_age = 21.5\n",
    "mean_master_age = 4.5\n",
    "mean_mrs_age = 35.5\n",
    "mean_mr_age = 33.0"
   ]
  },
  {
   "cell_type": "markdown",
   "metadata": {},
   "source": [
    "Prepare the features for training and inference:\n",
    "+ Create a feature called `sku` from the 'Pclass' column\n",
    "+ Create a feature called `n_family` by adding the 'SibSp' and 'Parch' columns\n",
    "+ Create a feature called `title` by extracting the title from the 'Name' column and mapping it to an integer\n",
    "+ Create a feature called `has_cabin` by checking if the 'Cabin' column is not null\n",
    "+ Create a feature called `fare` by binning the 'Fare' column into 3 categories\n",
    "+ Create a feature called `age` by using the calculated mean ages for the 'Age' column\n",
    "+ Create a feature called `is_father` by checking the 'Name' column for the title 'Mr.' and the sum of 'Parch' and 'SibSp' is greater than 2\n",
    "+ Create a feature called `is_lt12fam` by checking if the 'Age' is less than 12 and the sum of 'Parch' and 'SibSp' is greater than 1"
   ]
  },
  {
   "cell_type": "code",
   "execution_count": null,
   "metadata": {},
   "outputs": [],
   "source": [
    "# fmt: off\n",
    "train_Xs: LazyFrame = train_data.select(\n",
    "    sku=pl.col(\"Pclass\").rank(method=\"dense\"),\n",
    "    n_family=pl.col(\"SibSp\") + pl.col(\"Parch\"),\n",
    "    origin=pl.col(\"Embarked\").fill_null(strategy=\"forward\").rank(method=\"dense\"),\n",
    "    title=pl.col(\"Name\")\n",
    "        .str.extract(r\",\\s*(\\w+)\\.\\s*\")\n",
    "        .replace_strict(title_map, default=max(title_map.values()) + 1, return_dtype=pl.UInt8),\n",
    "    has_cabin=pl.col(\"Cabin\").is_not_null().cast(pl.UInt8),\n",
    "    fare=pl.when(pl.col(\"Fare\").is_null(),)\n",
    "        .then(pl.col(\"Fare\").mean())\n",
    "        .when(pl.col(\"Fare\").le(7.91),).then(1)\n",
    "        .when(pl.col(\"Fare\").is_between(7.91, 14.454, closed='left'),).then(2)\n",
    "        .when(pl.col(\"Fare\").is_between(14.454, 31.0, closed='left'),).then(3)\n",
    "        .otherwise(4).cast(pl.UInt8),\n",
    "    age=pl.when((pl.col(\"Name\").str.contains(\"Master\")) & (pl.col(\"Age\").is_null()),)\n",
    "        .then(mean_master_age)\n",
    "        .when((pl.col(\"Name\").str.contains(\"Miss\")) & (pl.col(\"Age\").is_null()),)\n",
    "        .then(mean_miss_age)\n",
    "        .when((pl.col(\"Name\").str.contains(\"Mrs\")) & (pl.col(\"Age\").is_null()),)\n",
    "        .then(mean_mrs_age)\n",
    "        .when((pl.col(\"Name\").str.contains(\"Mr\")) & (pl.col(\"Age\").is_null()),)\n",
    "        .then(mean_mr_age)\n",
    "        .when(pl.col(\"Age\").is_null(),)\n",
    "        .then(pl.col(\"Age\").mean())\n",
    "        .otherwise(pl.col(\"Age\")),\n",
    "    # is father with family\n",
    "    is_father=pl.when(pl.col(\"Name\").str.contains(\"Mr\") & (pl.col(\"Parch\") + pl.col(\"SibSp\") > 2),)\n",
    "        .then(1)\n",
    "        .otherwise(0).cast(pl.UInt8),\n",
    "    # Child under 12 in family\n",
    "    is_lt12fam=pl.when(pl.col(\"Age\").lt(12) & pl.col(\"Parch\") + pl.col(\"SibSp\") > 1,)\n",
    "        .then(1)\n",
    "        .otherwise(0).cast(pl.UInt8),\n",
    ")\n",
    "train_ys: LazyFrame = train_data.select(y=pl.col(\"Survived\"))\n",
    "\n",
    "test_Xs: LazyFrame = test_data.select(\n",
    "    sku=pl.col(\"Pclass\").rank(method=\"dense\"),\n",
    "    n_family=pl.col(\"SibSp\") + pl.col(\"Parch\"),\n",
    "    origin=pl.col(\"Embarked\").fill_null(strategy=\"forward\").rank(method=\"dense\"),\n",
    "    title=pl.col(\"Name\")\n",
    "        .str.extract(r\",\\s*(\\w+)\\.\\s*\")\n",
    "        .replace_strict(title_map, default=max(title_map.values()) + 1, return_dtype=pl.UInt8),\n",
    "    has_cabin=pl.col(\"Cabin\").is_not_null().cast(pl.UInt8),\n",
    "    fare=pl.when(pl.col(\"Fare\").is_null(),)\n",
    "        .then(pl.col(\"Fare\").mean())\n",
    "        .when(pl.col(\"Fare\").le(7.91),).then(1)\n",
    "        .when(pl.col(\"Fare\").is_between(7.91, 14.454, closed='left'),).then(2)\n",
    "        .when(pl.col(\"Fare\").is_between(14.454, 31.0, closed='left'),).then(3)\n",
    "        .otherwise(4).cast(pl.UInt8),\n",
    "    age=pl.when((pl.col(\"Name\").str.contains(\"Master\")) & (pl.col(\"Age\").is_null()),)\n",
    "        .then(mean_master_age)\n",
    "        .when((pl.col(\"Name\").str.contains(\"Miss\")) & (pl.col(\"Age\").is_null()),)\n",
    "        .then(mean_miss_age)\n",
    "        .when((pl.col(\"Name\").str.contains(\"Mrs\")) & (pl.col(\"Age\").is_null()),)\n",
    "        .then(mean_mrs_age)\n",
    "        .when((pl.col(\"Name\").str.contains(\"Mr\")) & (pl.col(\"Age\").is_null()),)\n",
    "        .then(mean_mr_age)\n",
    "        .when(pl.col(\"Age\").is_null(),)\n",
    "        .then(pl.col(\"Age\").mean())\n",
    "        .otherwise(pl.col(\"Age\")),\n",
    "    # is father with family\n",
    "    is_father=pl.when(pl.col(\"Name\").str.contains(\"Mr\") & (pl.col(\"Parch\") + pl.col(\"SibSp\") > 2),)\n",
    "        .then(1)\n",
    "        .otherwise(0).cast(pl.UInt8),\n",
    "    # Child under 12 in family\n",
    "    is_lt12fam=pl.when(pl.col(\"Age\").lt(12) & pl.col(\"Parch\") + pl.col(\"SibSp\") > 1,)\n",
    "        .then(1)\n",
    "        .otherwise(0).cast(pl.UInt8),\n",
    ")\n",
    "# fmt: on"
   ]
  },
  {
   "cell_type": "markdown",
   "metadata": {},
   "source": [
    "### View Some of the Processed Data (Optional)"
   ]
  },
  {
   "cell_type": "code",
   "execution_count": null,
   "metadata": {},
   "outputs": [],
   "source": [
    "sample_train_features: DataFrame = train_Xs.collect().head(15)\n",
    "sample_train_features"
   ]
  },
  {
   "cell_type": "code",
   "execution_count": null,
   "metadata": {},
   "outputs": [],
   "source": [
    "sample_test_features: DataFrame = test_Xs.collect().head(15)\n",
    "sample_test_features"
   ]
  },
  {
   "cell_type": "markdown",
   "metadata": {},
   "source": [
    "## Save the Processed Data"
   ]
  },
  {
   "cell_type": "code",
   "execution_count": null,
   "metadata": {},
   "outputs": [],
   "source": [
    "train_Xs.collect().write_csv(\"../data/train_Xs.csv\")\n",
    "train_ys.collect().write_csv(\"../data/train_ys.csv\")\n",
    "test_Xs.collect().write_csv(\"../data/test_Xs.csv\")\n"
   ]
  },
  {
   "cell_type": "code",
   "execution_count": null,
   "metadata": {},
   "outputs": [],
   "source": []
  }
 ],
 "metadata": {
  "kernelspec": {
   "display_name": ".conda",
   "language": "python",
   "name": "python3"
  },
  "language_info": {
   "codemirror_mode": {
    "name": "ipython",
    "version": 3
   },
   "file_extension": ".py",
   "mimetype": "text/x-python",
   "name": "python",
   "nbconvert_exporter": "python",
   "pygments_lexer": "ipython3",
   "version": "3.12.8"
  }
 },
 "nbformat": 4,
 "nbformat_minor": 2
}
