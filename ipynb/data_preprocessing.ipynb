{
 "cells": [
  {
   "cell_type": "markdown",
   "metadata": {},
   "source": [
    "# Data Preprocessing\n",
    "\n",
    "This is my effort to turn the given data in to an enhanced form to improve the prediction capability of models trained on it."
   ]
  },
  {
   "cell_type": "markdown",
   "metadata": {},
   "source": [
    "## Imports"
   ]
  },
  {
   "cell_type": "code",
   "execution_count": null,
   "metadata": {},
   "outputs": [],
   "source": [
    "import os\n",
    "import polars as pl\n",
    "\n",
    "from polars import Expr, LazyFrame, DataFrame, Series"
   ]
  },
  {
   "cell_type": "markdown",
   "metadata": {},
   "source": [
    "## Process Data\n",
    "Apply the same processing to the training and testing data."
   ]
  },
  {
   "cell_type": "code",
   "execution_count": null,
   "metadata": {},
   "outputs": [],
   "source": [
    "train_data: LazyFrame = pl.scan_csv(\"../data/train.csv\", has_header=True)\n",
    "test_data: LazyFrame = pl.scan_csv(\"../data/test.csv\", has_header=True)\n",
    "Xs: LazyFrame = pl.concat([train_data.drop(\"Survived\"), test_data])"
   ]
  },
  {
   "cell_type": "markdown",
   "metadata": {},
   "source": [
    "### Extract Titles"
   ]
  },
  {
   "cell_type": "markdown",
   "metadata": {},
   "source": [
    "Extract the titles from the _train_ and _test_ datasets. Save the titles to a file."
   ]
  },
  {
   "cell_type": "code",
   "execution_count": null,
   "metadata": {},
   "outputs": [],
   "source": [
    "titles: LazyFrame = Xs.select(title=pl.col(\"Name\").str.extract(r\", (\\w+)\\. \")).drop_nulls().unique().sort(\"title\")\n",
    "\n",
    "titles.collect().write_csv(\"../data/uniques_titles.csv\")"
   ]
  },
  {
   "cell_type": "markdown",
   "metadata": {},
   "source": [
    "From the unique title list, define a map of titles to integers. The _title_ is a good proxy for _gender_ but it contains a _social standing_ component. This feature is somewhat better to predict _survival_ than _gender_ alone."
   ]
  },
  {
   "cell_type": "code",
   "execution_count": null,
   "metadata": {},
   "outputs": [],
   "source": [
    "title_map: dict[str, int] = {\n",
    "    # Common Titles\n",
    "    \"Mr\": 1,\n",
    "    \"Ms\": 2,\n",
    "    \"Mrs\": 2,\n",
    "    \"Mme\": 2,\n",
    "    \"Master\": 3,\n",
    "    \"Miss\": 4,\n",
    "    \"Mlle\": 4,\n",
    "    # Distinguished Titles\n",
    "    \"Capt\": 5,\n",
    "    \"Col\": 5,\n",
    "    \"Dr\": 5,\n",
    "    \"Major\": 5,\n",
    "    \"Rev\": 5,\n",
    "    # Royal Titles\n",
    "    \"Don\": 6,\n",
    "    \"Dona\": 6,\n",
    "    \"Jonkheer\": 6,\n",
    "    \"Lady\": 6,\n",
    "    \"Sir\": 6,\n",
    "}"
   ]
  },
  {
   "cell_type": "markdown",
   "metadata": {},
   "source": [
    "### Features"
   ]
  },
  {
   "cell_type": "markdown",
   "metadata": {},
   "source": [
    "Calculate the mean ages for records that do not have an age. Calculate the _mean_ age for \"Master.\"s, \"Miss.\"es, \"Mr.\"s, and \"Mrs.\"es. For other titles, use the mean age of the entire dataset. Titles are embedded in the _Name_ column."
   ]
  },
  {
   "cell_type": "code",
   "execution_count": null,
   "metadata": {},
   "outputs": [],
   "source": [
    "mean_unknown_ages: DataFrame = pl.select(\n",
    "    mean_master_age=Xs.filter(pl.col(\"Name\").str.contains(\"Master\")).select(pl.col(\"Age\")).mean().collect(),\n",
    "    mean_miss_age=Xs.filter(pl.col(\"Name\").str.contains(\"Miss\")).select(pl.col(\"Age\")).mean().collect(),\n",
    "    mean_mr_age=Xs.filter(pl.col(\"Name\").str.contains(\"Mr\")).select(pl.col(\"Age\")).mean().collect(),\n",
    "    mean_mrs_age=Xs.filter(pl.col(\"Name\").str.contains(\"Mrs\")).select(pl.col(\"Age\")).mean().collect(),\n",
    "    mean_remaining_age=Xs.filter(~pl.col(\"Name\").str.contains(\"Master|Miss|Mr|Mrs\"))\n",
    "    .select(pl.col(\"Age\"))\n",
    "    .mean()\n",
    "    .collect(),\n",
    ").with_columns(\n",
    "    pl.col(\"mean_master_age\").round(1),\n",
    "    pl.col(\"mean_miss_age\").round(1),\n",
    "    pl.col(\"mean_mr_age\").round(1),\n",
    "    pl.col(\"mean_mrs_age\").round(1),\n",
    ")"
   ]
  },
  {
   "cell_type": "markdown",
   "metadata": {},
   "source": [
    "### Engineered features\n",
    "\n",
    "| Feature              | Description                                |\n",
    "|---------------------:|:-------------------------------------------|\n",
    "| `sku`                | The class of the passenger                 |\n",
    "| `family_size`        | How many family members travel together    |\n",
    "| `origin`             | The port of embarkation                    |\n",
    "| `title`              | The title of the passenger                 |\n",
    "| `has_cabin`          | The passenger has a cabin                  |\n",
    "| `fare`               | The fare of the passenger                  |\n",
    "| `age`                | The age of the passenger                   |\n",
    "| `father_with_family` | Father with his family                     |\n",
    "| `child_with_family`  | A child less than 12 years old in a family |\n",
    "\n",
    "\n",
    "#### sku\n",
    "Since `class` is a reserved keyword in Python, I will use `sku` instead.\n",
    "\n",
    "\n",
    "#### family_size\n",
    "The `family_size` is the sum of the `SibSp` and `Parch` columns.\n",
    "\n",
    "\n",
    "#### origin\n",
    "The `origin` is the port of embarkation. It is a categorical feature. It is an integer value for each port. I will consider one-hot encoding if it will improve model performace.\n",
    "\n",
    "\n",
    "#### title\n",
    "The `title` is the title of the passenger. It is a categorical feature. It is an integer value for each title. `title` is a good proxy for `gender` but it contains a _social standing_ component. This feature is marginally better better to predict _survival_ than gender alone. See how it is extracted above.\n",
    "\n",
    "\n",
    "#### has_cabin\n",
    "The `has_cabin` is a binary feature. It is `1` if the passenger has a cabin and `0` otherwise.\n",
    "\n",
    "\n",
    "#### fare\n",
    "The `fare` is the fare of the passenger. It is a continuous feature mapped into a number of bins. The boundaries of the bins are:\n",
    "+ 0 to 7.91\n",
    "+ 7.91 to 14.454\n",
    "+ 14.454 to 31\n",
    "+ 31 to 512.329\n",
    "\n",
    "If there is no fare, the _median_ fare is used to avoid skewing by outliers.\n",
    "\n",
    "\n",
    "#### age\n",
    "The `age` is the age of the passenger. The null values are filled with the mean ages as calculated above.\n",
    "\n",
    "\n",
    "#### father_with_family\n",
    "The `father_with_family` is a binary feature. It is `1` if the passenger is a father with his family and `0` otherwise. It is a combination of the `title` and _Parch_ and _SibSp_ features.\n",
    "\n",
    "\n",
    "#### child_with_family\n",
    "The `child_with_family` is a binary feature. It is `1` if the passenger is a child less than 12 years old in a family and `0` otherwise."
   ]
  },
  {
   "cell_type": "code",
   "execution_count": null,
   "metadata": {},
   "outputs": [],
   "source": [
    "# fmt: off\n",
    "def build_null_age_expr(title: str) -> Expr:\n",
    "    return pl.col(\"Name\").str.contains(title) & pl.col(\"Age\").is_null()\n",
    "\n",
    "\n",
    "null_master_age: Expr = build_null_age_expr(\"Master\")\n",
    "null_miss_age: Expr = build_null_age_expr(\"Miss\")\n",
    "null_mrs_age: Expr = build_null_age_expr(\"Mrs\")\n",
    "null_mr_age: Expr = build_null_age_expr(\"Mr\")\n",
    "null_person_age: Expr = ~pl.col(\"Name\").str.contains(\"Master|Miss|Mr|Mrs\") & pl.col(\"Age\").is_null()\n",
    "\n",
    "mean_master_age: Series = mean_unknown_ages[\"mean_master_age\"]\n",
    "mean_miss_age: Series = mean_unknown_ages[\"mean_miss_age\"]\n",
    "mean_mr_age: Series = mean_unknown_ages[\"mean_mr_age\"]\n",
    "mean_mrs_age: Series = mean_unknown_ages[\"mean_mrs_age\"]\n",
    "mean_remaining_age: Series = mean_unknown_ages[\"mean_remaining_age\"]\n",
    "\n",
    "\n",
    "def process_data(data: LazyFrame) -> LazyFrame:\n",
    "    return data.select(\n",
    "        sku=pl.col(\"Pclass\").rank(method=\"dense\"),\n",
    "        family_size=pl.col(\"SibSp\") + pl.col(\"Parch\"),\n",
    "        origin=pl.col(\"Embarked\").fill_null(strategy=\"forward\").rank(method=\"dense\"),\n",
    "        title=pl.col(\"Name\")\n",
    "            .str.extract(r\",\\s*(\\w+)\\.\\s*\")\n",
    "            .replace_strict(title_map, default=max(title_map.values()) + 1, return_dtype=pl.UInt8),\n",
    "        has_cabin=pl.col(\"Cabin\").is_not_null().cast(pl.UInt8),\n",
    "        fare=pl.when(pl.col(\"Fare\").is_null()).then(pl.col(\"Fare\").median())\n",
    "            .when(pl.col(\"Fare\").le(7.91),).then(1)\n",
    "            .when(pl.col(\"Fare\").is_between(7.91, 14.454, closed='left')).then(2)\n",
    "            .when(pl.col(\"Fare\").is_between(14.454, 31.0, closed='left')).then(3)\n",
    "            .otherwise(4).cast(pl.UInt8),\n",
    "        age=pl.when(null_master_age).then(mean_master_age)\n",
    "            .when(null_miss_age).then(mean_miss_age)\n",
    "            .when(null_mrs_age).then(mean_mrs_age)\n",
    "            .when(null_mr_age).then(mean_mr_age)\n",
    "            .when(null_person_age).then(mean_remaining_age)\n",
    "            .otherwise(pl.col(\"Age\")),\n",
    "        father_with_family=pl.when(pl.col(\"Name\").str.contains(\"Mr\") & (pl.col(\"Parch\") + pl.col(\"SibSp\") > 2))\n",
    "            .then(1)\n",
    "            .otherwise(0).cast(pl.UInt8),\n",
    "        child_with_family=pl.when(pl.col(\"Age\").lt(12.0) & (pl.col(\"Parch\") + pl.col(\"SibSp\") > 1))\n",
    "            .then(1)\n",
    "            .otherwise(0).cast(pl.UInt8)\n",
    "    )\n",
    "\n",
    "\n",
    "train_Xs: LazyFrame = process_data(train_data)\n",
    "train_ys: LazyFrame = train_data.select(y=pl.col(\"Survived\"))\n",
    "test_Xs: LazyFrame = process_data(test_data)\n",
    "# fmt: on"
   ]
  },
  {
   "cell_type": "markdown",
   "metadata": {},
   "source": [
    "## Save the Processed Data"
   ]
  },
  {
   "cell_type": "code",
   "execution_count": null,
   "metadata": {},
   "outputs": [],
   "source": [
    "def save_processed_data(df: DataFrame, path: str) -> None:\n",
    "    df.collect().write_csv(os.path.join(\"../data\", path + \".csv\"))\n",
    "\n",
    "for dataset in [(train_Xs, \"train_Xs\"), (train_ys, \"train_ys\"), (test_Xs, \"test_Xs\")]:\n",
    "    save_processed_data(*dataset)"
   ]
  }
 ],
 "metadata": {
  "kernelspec": {
   "display_name": ".conda",
   "language": "python",
   "name": "python3"
  },
  "language_info": {
   "codemirror_mode": {
    "name": "ipython",
    "version": 3
   },
   "file_extension": ".py",
   "mimetype": "text/x-python",
   "name": "python",
   "nbconvert_exporter": "python",
   "pygments_lexer": "ipython3",
   "version": "3.12.8"
  }
 },
 "nbformat": 4,
 "nbformat_minor": 2
}
